{
 "cells": [
  {
   "cell_type": "code",
   "execution_count": null,
   "id": "303fb3ec-cec9-4327-882b-3d38f3d91b48",
   "metadata": {},
   "outputs": [],
   "source": [
    "Q1. What is the Probability density function?\n",
    "\n",
    "The Probability Density Function (PDF) is a statistical function that describes the likelihood of a continuous random variable falling within a particular range of values. \n",
    "The PDF provides a way to model and understand the probability distribution of continuous random variables."
   ]
  },
  {
   "cell_type": "code",
   "execution_count": null,
   "id": "0fac9cf5-93a1-4112-be18-36e436b1848d",
   "metadata": {},
   "outputs": [],
   "source": [
    "Q2. What are the types of Probability distribution?\n",
    "\n",
    "Types of probability distributions:\n",
    "    1.Normal/Gaussian distribution\n",
    "    2.Bernoulli distribution\n",
    "    3.Uniform distribution\n",
    "    4.Binomial distribution\n",
    "    5.Log normal distribution\n",
    "    6.Poisson distribution\n",
    "    7.Power law distribution"
   ]
  },
  {
   "cell_type": "code",
   "execution_count": null,
   "id": "a2c38dd3-81e8-4448-bb88-ac73879444ef",
   "metadata": {},
   "outputs": [],
   "source": [
    "Q3. Write a Python function to calculate the probability density function of a normal distribution with\n",
    "given mean and standard deviation at a given point."
   ]
  },
  {
   "cell_type": "code",
   "execution_count": 11,
   "id": "78d1e09c-c1c8-474d-9269-d1f35eb2325c",
   "metadata": {},
   "outputs": [],
   "source": [
    "from scipy.stats import norm"
   ]
  },
  {
   "cell_type": "code",
   "execution_count": 12,
   "id": "78b7c210-f472-47a6-8239-b600411937cd",
   "metadata": {},
   "outputs": [],
   "source": [
    "def normal_pdf(mean, std_dev, x):\n",
    "    pdf_value = norm.pdf(x, loc=mean, scale=std_dev)\n",
    "    return pdf_value"
   ]
  },
  {
   "cell_type": "code",
   "execution_count": 13,
   "id": "12144aaf-db6a-4784-a795-64c77a216569",
   "metadata": {},
   "outputs": [],
   "source": [
    "mean_value = 0  # Replace with your mean value\n",
    "std_dev_value = 1  # Replace with your standard deviation value\n",
    "point = 1"
   ]
  },
  {
   "cell_type": "code",
   "execution_count": 14,
   "id": "1623305f-953f-4a74-97f7-9487a5c117d2",
   "metadata": {},
   "outputs": [
    {
     "name": "stdout",
     "output_type": "stream",
     "text": [
      "The PDF at x=1 is: 0.24197072451914337\n"
     ]
    }
   ],
   "source": [
    "result = normal_pdf(mean_value, std_dev_value, point)\n",
    "print(f\"The PDF at x={point} is: {result}\")"
   ]
  },
  {
   "cell_type": "code",
   "execution_count": null,
   "id": "57e498ab-690f-4c02-980c-a0559d96e089",
   "metadata": {},
   "outputs": [],
   "source": [
    "Q4. What are the properties of Binomial distribution? Give two examples of events where binomial\n",
    "distribution can be applied.\n",
    "\n",
    "The Binomial distribution is a discrete probability distribution that models the number of successes (usually denoted as X) in a fixed number of independent and identical Bernoulli trials. \n",
    "Each trial has only two possible outcomes: success (with probability p) or failure (with probability 1−p).\n",
    "\n",
    "Properties of the Binomial Distribution:\n",
    "Fixed Number of Trials (n): \n",
    "    The distribution is based on a fixed number of independent trials, denoted as n.\n",
    "Two Possible Outcomes: \n",
    "    Each trial results in either a success or a failure.\n",
    "Independence: \n",
    "    The trials are independent, meaning the outcome of one trial does not affect the outcome of another.\n",
    "\n",
    "Constant Probability of Success (p): \n",
    "    The probability of success (p) remains constant across all trials.\n",
    "Discreteness: \n",
    "    The random variable X represents the count of successes, and it takes on integer values.\n",
    "\n",
    "Examples of Events Modeled by Binomial Distribution:\n",
    "\n",
    "1.Coin Flipping:\n",
    "Suppose you flip a fair coin (with heads as a success and tails as a failure) five times (n=5).\n",
    "The probability of getting heads (p) on each flip is 0.5.\n",
    "The binomial distribution can be used to model the number of heads obtained in the five flips.\n",
    "\n",
    "2.Quality Control:\n",
    "In a manufacturing process, a product either passes a quality control test (success) or fails the test (failure).\n",
    "If 90% of the products pass the test (p=0.9), and you randomly select ten products (n=10), the binomial distribution can model the number of products that pass the test.\n",
    "\n",
    "In both examples, the binomial distribution provides a way to calculate the probability of a specific number of successes in a fixed number of independent trials with a constant probability of success."
   ]
  },
  {
   "cell_type": "code",
   "execution_count": null,
   "id": "2ae6a6e9-d7d4-47f0-bd35-d58abbc8f415",
   "metadata": {},
   "outputs": [],
   "source": [
    "Q5. Generate a random sample of size 1000 from a binomial distribution with probability of success 0.4\n",
    "and plot a histogram of the results using matplotlib."
   ]
  },
  {
   "cell_type": "code",
   "execution_count": 15,
   "id": "12c3992e-6eb6-4c35-a555-f3a8b416ad77",
   "metadata": {},
   "outputs": [],
   "source": [
    "import numpy as np\n",
    "import matplotlib.pyplot as plt"
   ]
  },
  {
   "cell_type": "code",
   "execution_count": 16,
   "id": "9e8270a6-23ed-4c3f-8ffb-d7b0edb75ed2",
   "metadata": {},
   "outputs": [],
   "source": [
    "np.random.seed(42)"
   ]
  },
  {
   "cell_type": "code",
   "execution_count": 17,
   "id": "921b4578-d1ca-4b59-9cd6-d843707ebead",
   "metadata": {},
   "outputs": [],
   "source": [
    "sample_size = 1000\n",
    "probability_of_success = 0.4\n",
    "random_sample = np.random.binomial(1, probability_of_success, sample_size)"
   ]
  },
  {
   "cell_type": "code",
   "execution_count": 18,
   "id": "df90e0f6-6b8c-4af5-9784-ec0162c71880",
   "metadata": {},
   "outputs": [
    {
     "data": {
      "text/plain": [
       "array([0, 1, 1, 0, 0, 0, 0, 1, 1, 1, 0, 1, 1, 0, 0, 0, 0, 0, 0, 0, 1, 0,\n",
       "       0, 0, 0, 1, 0, 0, 0, 0, 1, 0, 0, 1, 1, 1, 0, 0, 1, 0, 0, 0, 0, 1,\n",
       "       0, 1, 0, 0, 0, 0, 1, 1, 1, 1, 0, 1, 0, 0, 0, 0, 0, 0, 1, 0, 0, 0,\n",
       "       0, 1, 0, 1, 1, 0, 0, 1, 1, 1, 1, 0, 0, 0, 1, 1, 0, 0, 0, 0, 1, 1,\n",
       "       1, 0, 0, 1, 1, 0, 1, 0, 0, 0, 0, 0, 0, 1, 0, 0, 1, 0, 0, 1, 0, 0,\n",
       "       0, 0, 1, 1, 1, 1, 1, 0, 1, 0, 1, 1, 0, 0, 0, 0, 1, 1, 0, 0, 0, 0,\n",
       "       0, 0, 1, 0, 0, 1, 0, 1, 1, 0, 0, 0, 0, 0, 1, 0, 0, 0, 1, 0, 0, 0,\n",
       "       1, 0, 1, 1, 0, 1, 0, 1, 1, 0, 0, 1, 0, 0, 0, 0, 1, 0, 0, 0, 1, 0,\n",
       "       1, 0, 1, 0, 0, 0, 1, 1, 0, 1, 1, 0, 0, 0, 0, 1, 1, 1, 0, 0, 1, 1,\n",
       "       1, 1, 1, 0, 0, 1, 1, 0, 0, 1, 0, 0, 0, 1, 1, 0, 1, 0, 0, 1, 1, 1,\n",
       "       1, 0, 0, 0, 0, 0, 1, 0, 1, 1, 1, 0, 0, 0, 0, 1, 0, 0, 1, 0, 1, 1,\n",
       "       1, 0, 0, 1, 0, 1, 1, 1, 0, 0, 1, 0, 0, 0, 1, 1, 0, 0, 1, 1, 0, 0,\n",
       "       1, 1, 1, 1, 0, 0, 1, 1, 1, 1, 0, 0, 1, 1, 1, 1, 1, 0, 0, 0, 0, 0,\n",
       "       0, 0, 0, 0, 0, 0, 1, 0, 0, 0, 1, 0, 1, 0, 0, 0, 0, 1, 1, 1, 0, 0,\n",
       "       1, 0, 0, 0, 0, 1, 1, 1, 0, 0, 0, 0, 0, 1, 1, 0, 1, 1, 0, 1, 0, 0,\n",
       "       0, 1, 0, 0, 0, 0, 1, 1, 0, 0, 0, 0, 0, 0, 0, 1, 1, 0, 0, 1, 0, 1,\n",
       "       1, 0, 0, 1, 0, 0, 1, 0, 0, 1, 0, 0, 1, 0, 1, 1, 0, 0, 0, 0, 0, 1,\n",
       "       0, 0, 1, 0, 1, 0, 0, 1, 1, 1, 1, 1, 0, 0, 1, 1, 1, 0, 0, 1, 0, 1,\n",
       "       1, 0, 1, 1, 0, 1, 0, 1, 0, 1, 0, 0, 1, 0, 0, 1, 1, 0, 1, 0, 0, 0,\n",
       "       1, 1, 1, 1, 0, 0, 0, 0, 0, 1, 0, 0, 0, 1, 1, 0, 0, 1, 0, 1, 1, 0,\n",
       "       0, 1, 0, 0, 1, 1, 1, 1, 0, 0, 1, 0, 0, 1, 0, 0, 0, 0, 0, 0, 0, 1,\n",
       "       1, 0, 1, 0, 0, 1, 0, 1, 0, 1, 0, 1, 0, 1, 0, 0, 1, 0, 1, 1, 0, 1,\n",
       "       0, 1, 0, 0, 1, 1, 0, 1, 0, 0, 0, 0, 0, 0, 1, 1, 1, 0, 0, 1, 1, 0,\n",
       "       1, 1, 1, 1, 1, 0, 1, 1, 0, 0, 0, 1, 1, 0, 0, 0, 1, 1, 1, 0, 0, 0,\n",
       "       0, 1, 1, 1, 1, 0, 1, 1, 1, 0, 0, 0, 1, 1, 0, 1, 1, 0, 0, 1, 0, 1,\n",
       "       0, 1, 0, 0, 1, 0, 0, 0, 1, 1, 1, 0, 0, 0, 0, 0, 0, 0, 1, 0, 0, 1,\n",
       "       0, 1, 1, 1, 0, 1, 0, 0, 0, 1, 0, 0, 1, 0, 0, 0, 0, 0, 0, 1, 0, 0,\n",
       "       1, 0, 1, 0, 0, 0, 0, 0, 0, 0, 0, 0, 0, 0, 0, 1, 0, 1, 1, 0, 1, 1,\n",
       "       0, 0, 1, 1, 0, 0, 0, 0, 1, 0, 0, 1, 0, 0, 1, 1, 0, 0, 0, 0, 0, 0,\n",
       "       0, 0, 0, 0, 0, 0, 0, 1, 0, 1, 1, 0, 0, 0, 0, 1, 0, 0, 0, 0, 1, 0,\n",
       "       0, 1, 1, 0, 0, 0, 0, 0, 0, 0, 0, 1, 0, 0, 0, 1, 0, 0, 1, 1, 1, 0,\n",
       "       0, 1, 1, 0, 0, 0, 1, 0, 0, 0, 0, 0, 0, 1, 0, 0, 0, 0, 0, 0, 0, 0,\n",
       "       0, 1, 0, 1, 0, 1, 1, 0, 0, 0, 0, 1, 1, 1, 0, 1, 1, 0, 0, 1, 0, 1,\n",
       "       0, 1, 0, 0, 0, 1, 1, 0, 0, 1, 0, 1, 0, 0, 0, 0, 1, 0, 0, 1, 0, 0,\n",
       "       1, 1, 0, 1, 1, 0, 0, 1, 1, 0, 1, 1, 0, 0, 0, 1, 0, 0, 1, 1, 0, 1,\n",
       "       0, 1, 0, 0, 1, 0, 0, 1, 1, 1, 1, 0, 0, 0, 0, 1, 0, 0, 0, 1, 0, 0,\n",
       "       0, 1, 0, 1, 1, 0, 1, 1, 1, 0, 0, 1, 0, 1, 1, 1, 0, 0, 1, 1, 0, 1,\n",
       "       1, 0, 0, 0, 0, 0, 1, 0, 0, 0, 0, 1, 0, 0, 1, 0, 0, 0, 0, 0, 0, 0,\n",
       "       1, 0, 0, 1, 0, 1, 0, 1, 0, 0, 0, 1, 0, 0, 0, 1, 0, 1, 0, 0, 0, 0,\n",
       "       0, 0, 1, 0, 0, 0, 0, 0, 0, 0, 1, 1, 0, 0, 1, 0, 0, 0, 1, 1, 0, 0,\n",
       "       0, 1, 0, 0, 1, 0, 1, 0, 0, 0, 1, 1, 1, 0, 1, 0, 0, 1, 0, 0, 0, 0,\n",
       "       0, 0, 0, 1, 1, 0, 0, 0, 0, 0, 1, 0, 0, 0, 0, 1, 1, 0, 1, 0, 1, 1,\n",
       "       0, 0, 0, 0, 1, 0, 0, 1, 1, 0, 0, 0, 0, 1, 0, 0, 0, 0, 1, 1, 0, 0,\n",
       "       0, 1, 1, 0, 1, 1, 0, 1, 0, 0, 0, 0, 0, 1, 0, 1, 0, 0, 0, 0, 1, 0,\n",
       "       0, 0, 1, 1, 1, 0, 0, 0, 0, 0, 0, 0, 0, 1, 0, 0, 1, 0, 1, 0, 0, 1,\n",
       "       1, 1, 0, 0, 0, 0, 1, 0, 1, 0])"
      ]
     },
     "execution_count": 18,
     "metadata": {},
     "output_type": "execute_result"
    }
   ],
   "source": [
    "random_sample"
   ]
  },
  {
   "cell_type": "code",
   "execution_count": 19,
   "id": "f31e942a-5447-4fa0-85f4-48034c0d70fe",
   "metadata": {},
   "outputs": [
    {
     "data": {
      "image/png": "[encoded data removed]",
      "text/plain": [
       "<Figure size 640x480 with 1 Axes>"
      ]
     },
     "metadata": {},
     "output_type": "display_data"
    }
   ],
   "source": [
    "plt.hist(random_sample, bins=[-0.5, 0.5, 1.5], edgecolor='black', alpha=0.7)\n",
    "plt.title('Binomial Distribution with p=0.4')\n",
    "plt.xlabel('Number of Successes')\n",
    "plt.ylabel('Frequency')\n",
    "plt.xticks([0, 1], ['Failure (0)', 'Success (1)'])\n",
    "plt.show()"
   ]
  },
  {
   "cell_type": "code",
   "execution_count": null,
   "id": "b790d28c-0ebe-4e07-a904-809523645659",
   "metadata": {},
   "outputs": [],
   "source": [
    "Q6. Write a Python function to calculate the cumulative distribution function of a Poisson distribution\n",
    "with given mean at a given point."
   ]
  },
  {
   "cell_type": "code",
   "execution_count": 20,
   "id": "b51b181e-f8e0-4e90-9748-95c2acd3ede3",
   "metadata": {},
   "outputs": [],
   "source": [
    "from scipy.stats import poisson"
   ]
  },
  {
   "cell_type": "code",
   "execution_count": 21,
   "id": "70607895-d856-4144-9cb1-a39c2fcfc64d",
   "metadata": {},
   "outputs": [],
   "source": [
    "def poisson_cdf(mean, x):\n",
    "    cdf_value = poisson.cdf(x, mu=mean)\n",
    "    return cdf_value"
   ]
  },
  {
   "cell_type": "code",
   "execution_count": 22,
   "id": "f031fcf3-92b3-47dc-b19c-703b3abe5582",
   "metadata": {},
   "outputs": [],
   "source": [
    "# Example usage:\n",
    "mean_value = 3  # Replace with your mean value\n",
    "point = 2  # Replace with the point at which you want to calculate the CDF"
   ]
  },
  {
   "cell_type": "code",
   "execution_count": 23,
   "id": "6c3273ac-2000-4ca3-be1c-5ec0a94f3a2e",
   "metadata": {},
   "outputs": [
    {
     "name": "stdout",
     "output_type": "stream",
     "text": [
      "The CDF at x=2 is: 0.42319008112684364\n"
     ]
    }
   ],
   "source": [
    "result = poisson_cdf(mean_value, point)\n",
    "print(f\"The CDF at x={point} is: {result}\")"
   ]
  },
  {
   "cell_type": "code",
   "execution_count": null,
   "id": "f9de8415-1b6d-483c-b386-5e9e7efb5d69",
   "metadata": {},
   "outputs": [],
   "source": [
    "Q7. How Binomial distribution different from Poisson distribution?\n",
    "\n",
    "The Binomial distribution and the Poisson distribution are both probability distributions used to model the number of successes in a fixed number of trials. \n",
    "However, there are key differences between the two distributions, and each is suitable for different types of scenarios.\n",
    "\n",
    "1. Nature of the Process:\n",
    "Binomial Distribution:\n",
    "  Used when there are a fixed number (n) of independent and identical Bernoulli trials.\n",
    "  Each trial has two possible outcomes: success or failure.\n",
    "  Examples include coin flips, where success might be getting heads, and failure getting tails.\n",
    "Poisson Distribution:\n",
    "  Used when the number of events in a fixed interval of time or space is modeled.\n",
    "  Appropriate when the events are rare and occur randomly.\n",
    "  Examples include the number of phone calls received at a call center in an hour, the number of arrivals at a bus stop in a given time period, or the number of accidents at an intersection in a day.\n",
    "2. Number of Trials:\n",
    "Binomial Distribution:\n",
    "  Requires a fixed number of trials (n).\n",
    "  Each trial is independent and has the same probability of success (p).\n",
    "Poisson Distribution:\n",
    "  Describes a random process where events occur independently over time or space.\n",
    "  Does not have a fixed number of trials; instead, it models the number of events in a continuous stream.\n",
    "3. Probability of Success:\n",
    "Binomial Distribution:\n",
    "  Requires a constant probability of success (p) for each trial.\n",
    "Poisson Distribution:\n",
    "  Models events occurring at a constant rate, but the probability of an event in a very small time interval approaches zero\n",
    "4.Conditions:\n",
    "Binomial Distribution:\n",
    "  Applicable when there is a fixed number of trials, each with two possible outcomes.\n",
    "Poisson Distribution:\n",
    "  Applicable when events occur independently over time or space, and the average rate of occurrence is constant."
   ]
  },
  {
   "cell_type": "code",
   "execution_count": null,
   "id": "9af73c6c-848a-4e33-a492-e89e7950f8e9",
   "metadata": {},
   "outputs": [],
   "source": [
    "Q8. Generate a random sample of size 1000 from a Poisson distribution with mean 5 and calculate the\n",
    "sample mean and variance."
   ]
  },
  {
   "cell_type": "code",
   "execution_count": 24,
   "id": "c515a415-a20a-4a7c-b647-8375d6339dbb",
   "metadata": {},
   "outputs": [],
   "source": [
    "import numpy as np"
   ]
  },
  {
   "cell_type": "code",
   "execution_count": 25,
   "id": "9f374566-5699-475a-833b-7af83cbf19c5",
   "metadata": {},
   "outputs": [],
   "source": [
    "np.random.seed(42)"
   ]
  },
  {
   "cell_type": "code",
   "execution_count": 26,
   "id": "03e02745-d9cf-42c0-be07-fa9b1757c441",
   "metadata": {},
   "outputs": [],
   "source": [
    "sample_size = 1000\n",
    "mean_value = 5\n",
    "random_sample = np.random.poisson(mean_value, sample_size)"
   ]
  },
  {
   "cell_type": "code",
   "execution_count": 27,
   "id": "b7822fb3-e5df-48f9-8218-1540941a2c7f",
   "metadata": {},
   "outputs": [],
   "source": [
    "sample_mean = np.mean(random_sample)\n",
    "sample_variance = np.var(random_sample, ddof=1)  # Use ddof=1 for sample variance"
   ]
  },
  {
   "cell_type": "code",
   "execution_count": 28,
   "id": "5b3009b4-7330-4698-a854-bf686f8a6917",
   "metadata": {},
   "outputs": [
    {
     "data": {
      "text/plain": [
       "5.001776776776777"
      ]
     },
     "execution_count": 28,
     "metadata": {},
     "output_type": "execute_result"
    }
   ],
   "source": [
    "sample_variance"
   ]
  },
  {
   "cell_type": "code",
   "execution_count": 29,
   "id": "b659093f-2f33-4786-9f99-14a2f600486b",
   "metadata": {},
   "outputs": [
    {
     "data": {
      "text/plain": [
       "4.985"
      ]
     },
     "execution_count": 29,
     "metadata": {},
     "output_type": "execute_result"
    }
   ],
   "source": [
    "sample_mean"
   ]
  },
  {
   "cell_type": "code",
   "execution_count": 30,
   "id": "c0df5215-3568-4af0-bc53-e232d03e4e1d",
   "metadata": {},
   "outputs": [
    {
     "data": {
      "text/plain": [
       "array([ 5,  4,  4,  5,  5,  3,  5,  4,  6,  7,  2,  5,  5,  6,  4,  6,  6,\n",
       "        1,  7,  2, 11,  4,  3,  8,  3,  3,  5,  8,  3,  2,  5,  3,  8, 10,\n",
       "        3,  2,  5,  7,  6,  6,  2,  4,  9,  7, 11,  8,  3,  2,  3,  4,  5,\n",
       "        5,  4,  3,  8,  2,  1,  4,  5,  4,  3,  4,  8,  2,  2,  2,  7,  6,\n",
       "        7,  6,  7,  6,  4,  2,  3,  4,  7,  4,  3,  2,  6,  3,  5,  9,  6,\n",
       "        6,  9,  4,  9,  2, 10,  6,  9,  4,  1,  6,  8,  6,  2,  3,  5,  3,\n",
       "        3,  5,  6,  5,  3,  5,  3,  3,  6,  5,  6,  2,  4,  7,  6,  5,  4,\n",
       "        3,  3,  7,  7,  6,  6,  7,  8,  6,  3,  7,  5,  5,  7,  4,  9,  4,\n",
       "        5,  2,  6,  3,  6,  2,  3,  5,  3,  4,  5,  6,  3,  3,  4,  5,  4,\n",
       "        2,  6,  6,  8,  1,  6,  2,  5,  2,  6,  4,  3,  5,  6,  3,  4,  8,\n",
       "        4, 10,  4,  5, 10,  3,  4,  7,  5, 10,  4,  2,  3,  5,  8,  4,  3,\n",
       "        8,  6,  8,  3,  3,  5, 11,  7,  4,  3,  8,  8,  3,  3,  6,  2,  7,\n",
       "        5,  5,  6,  1, 10,  2,  5,  4,  5,  4,  5,  6,  1,  3,  2,  5,  4,\n",
       "        7,  7,  2,  6,  7,  2,  7,  5,  7,  6,  5,  6,  5,  4,  7,  1,  8,\n",
       "        4,  5,  3,  7,  2,  5, 10,  7,  7, 10,  1,  5,  3,  8,  7,  3,  1,\n",
       "        5,  3,  6,  3,  4,  5,  8,  7,  5,  4,  6,  8,  4,  3,  2,  3,  9,\n",
       "        5,  4,  7,  8,  4,  4,  8,  5,  5,  6,  7,  2,  1,  7,  5,  4,  4,\n",
       "        3,  8,  7,  1,  2,  4,  6,  4,  6,  8,  7,  5,  2,  1,  7,  4,  1,\n",
       "        6,  5,  8,  5,  4, 10,  7,  4,  8,  5,  5,  5,  2,  3,  4,  9,  0,\n",
       "        5,  5,  5,  5,  4,  9,  6,  2,  6,  6,  6,  5,  2,  5,  3,  3,  3,\n",
       "        6,  6,  4,  5,  5,  7,  5,  3,  4,  7,  5,  7,  8,  7,  5,  8,  4,\n",
       "        6,  8,  6,  3,  8,  4,  7,  2, 10,  6,  4,  5,  6,  4,  5,  6,  3,\n",
       "        7,  7,  8,  4,  7,  3,  4,  4,  0,  1,  1,  7,  5,  5,  8,  3,  5,\n",
       "        3,  5,  1,  7,  2,  4,  6,  7,  9,  4,  1,  4,  6,  3,  4,  2,  6,\n",
       "        8,  7,  2,  6,  9,  3,  8,  7,  6, 10,  5,  5,  5,  5,  4, 10,  3,\n",
       "        2,  6,  4,  4,  8,  5,  4,  7,  4,  2,  2,  3,  3,  8,  6,  0,  8,\n",
       "        5,  4,  5,  7,  6,  3,  4,  2,  4,  1,  9,  3,  1,  5,  4,  6,  5,\n",
       "        8,  5,  7,  4,  1,  5,  4,  3,  2, 12,  5, 10,  6,  1,  6,  2,  4,\n",
       "        5,  8,  4,  2,  1,  8,  8,  4,  1,  9,  4,  2,  4,  3,  8,  9,  4,\n",
       "        4,  5, 11,  8,  6,  2,  8,  7,  6,  5,  3,  5,  3,  3,  7,  4,  4,\n",
       "        6,  6,  3,  4,  6,  6,  6,  6,  3,  5,  2,  5,  3,  3,  5, 11,  7,\n",
       "        7,  4,  1,  4,  5,  4,  4,  7,  6,  8,  4,  3,  0,  4,  1,  4,  3,\n",
       "        5,  6,  6,  4,  4,  5,  1,  9,  7,  5,  4,  5,  4,  1,  3,  7,  6,\n",
       "       10,  4,  5,  6,  6,  8,  4,  3,  3,  9,  7,  2,  2,  4,  6,  9, 11,\n",
       "        4,  7,  7,  3,  7,  5,  2,  9,  6,  3,  6,  3,  2,  8,  4,  5,  4,\n",
       "        3,  4,  3, 11,  6,  5,  5,  5,  3,  6,  4,  5,  3,  7,  3,  6,  7,\n",
       "        1,  6,  4,  2,  2,  5,  5,  3,  5, 11,  2,  6,  5,  3,  4, 10,  1,\n",
       "        8,  3,  5,  4, 11,  3,  4,  3,  3,  8,  1,  5,  7,  3,  7,  5,  7,\n",
       "        5,  7,  5,  4,  5, 11,  7,  6,  3,  0, 10,  5,  5,  3,  4,  2,  2,\n",
       "        7,  3,  1,  3,  7,  5,  5,  4,  5,  5,  3,  3,  6,  6,  4,  9,  6,\n",
       "        5,  5,  4, 10,  6,  2,  4,  3,  2,  5,  6,  5, 10,  5,  5,  4,  4,\n",
       "        3,  6,  4,  2,  9,  5,  9,  5,  5,  1,  5,  8,  6,  2,  5,  5,  4,\n",
       "        6,  5,  6,  5,  4,  7,  5,  7,  6,  4,  8,  4,  3,  5, 10,  6,  4,\n",
       "        3,  3,  5,  2,  6,  2,  5,  2,  6,  3,  5,  2,  6,  6,  7,  6,  6,\n",
       "        4,  4,  7,  5,  5,  8,  4,  2,  3,  4,  6,  9,  3,  5,  3,  2,  4,\n",
       "        9,  4,  5,  8,  8,  5,  3,  9,  2,  8,  7,  6,  9,  3,  6,  7,  7,\n",
       "        5,  5,  1,  7,  4,  7,  5,  5,  3,  5,  5,  4,  3,  3,  5, 10,  2,\n",
       "        5,  3,  4,  6,  3,  4,  4,  5,  8,  5,  6,  3,  4,  5,  6,  7,  5,\n",
       "        2,  6,  4,  2,  4,  2,  3,  4,  7,  5,  5,  7,  9,  7,  6,  6,  9,\n",
       "        2,  3,  9,  3,  8,  5,  4,  9,  2,  5, 10,  5,  4,  7,  3,  6,  3,\n",
       "        3,  4,  1,  2,  4,  5,  8,  7,  7,  2,  6,  8,  6,  4,  4,  4,  1,\n",
       "        6,  8,  7,  7,  6,  6,  4,  3,  6,  3, 10,  5,  6,  6,  4,  6,  5,\n",
       "        3,  2,  3,  2,  8,  7,  4,  3,  3,  6,  5,  1,  8,  9,  4,  7,  3,\n",
       "        7,  5,  6,  8,  2,  4,  9,  4,  4,  3,  4,  4,  6,  7,  3,  6,  8,\n",
       "        7,  3,  4,  6,  8,  3,  4,  3,  8,  1,  3,  7,  5,  9,  5,  4,  5,\n",
       "        7,  3,  6,  7,  4,  4,  4,  3,  4,  2,  7,  6,  7,  5,  4,  5,  4,\n",
       "        7,  5,  6,  5,  2,  4,  4,  6, 11,  6,  8,  5,  3,  5,  1,  8,  6,\n",
       "        4,  7,  1,  7,  3,  9,  4,  2,  4,  6,  2,  1,  7,  7,  6,  8,  7,\n",
       "        5,  6,  6,  7,  6,  3,  3,  1,  5,  3,  9,  8,  4,  2])"
      ]
     },
     "execution_count": 30,
     "metadata": {},
     "output_type": "execute_result"
    }
   ],
   "source": [
    "random_sample"
   ]
  },
  {
   "cell_type": "code",
   "execution_count": 31,
   "id": "22923e00-1a71-44f5-b0ed-385ed6372781",
   "metadata": {},
   "outputs": [
    {
     "name": "stdout",
     "output_type": "stream",
     "text": [
      "Sample Mean: 4.985\n",
      "Sample Variance: 5.001776776776777\n"
     ]
    }
   ],
   "source": [
    "print(f\"Sample Mean: {sample_mean}\")\n",
    "print(f\"Sample Variance: {sample_variance}\")"
   ]
  },
  {
   "cell_type": "code",
   "execution_count": null,
   "id": "562daff4-0dd1-40ed-a2ba-274c01192cf4",
   "metadata": {},
   "outputs": [],
   "source": [
    "Q9. How mean and variance are related in Binomial distribution and Poisson distribution?\n",
    "\n",
    "In the Binomial distribution, the variance depends on both the number of trials (n) and the probability of success (p).\n",
    "In the Poisson distribution, the variance is solely determined by the average rate of occurrence (λ).\n",
    "In both distributions, when the distribution becomes more \"concentrated\" around the mean (i.e., as p approaches 0 or 1 in the Binomial distribution, or as λ increases in the Poisson distribution), the variance tends to decrease. \n",
    "This is a general trend, but specific details depend on the parameters of each distribution."
   ]
  },
  {
   "cell_type": "code",
   "execution_count": null,
   "id": "476aa96b-5064-4594-acf6-fdef64310bd6",
   "metadata": {},
   "outputs": [],
   "source": [
    "Q10. In normal distribution with respect to mean position, where does the least frequent data appear?\n",
    "\n",
    "\n",
    "In a normal distribution, which is a symmetric distribution, the least frequent data appears in the tails of the distribution, farthest away from the mean. The tails of the normal distribution represent the extreme values, and these extreme values occur less frequently compared to values closer to the mean.\n",
    "\n",
    "The normal distribution is characterized by a bell-shaped curve, and it is symmetric around its mean. The mean is located at the center of the distribution, and as you move away from the mean towards the tails, the frequency of occurrence decreases.\n",
    "\n",
    "In a standard normal distribution (with a mean of 0 and a standard deviation of 1), approximately 68% of the data falls within one standard deviation of the mean, about 95% falls within two standard deviations, and about 99.7% falls within three standard deviations. This leaves a small percentage of data in the tails, and these extreme values are the least frequent in a normal distribution.\n",
    "\n",
    "So, least frequent data appears in the tails, which are the regions that are farther away from the mean."
   ]
  },
  {
   "cell_type": "code",
   "execution_count": null,
   "id": "a5ed5758-4375-442d-84f4-1ade57adcb11",
   "metadata": {},
   "outputs": [],
   "source": []
  },
  {
   "cell_type": "code",
   "execution_count": null,
   "id": "20d7f5c7-cfdd-4ab3-95fe-980546eb1bda",
   "metadata": {},
   "outputs": [],
   "source": []
  },
  {
   "cell_type": "code",
   "execution_count": null,
   "id": "9408750f-bf64-47bc-ac2b-585e890f7ed7",
   "metadata": {},
   "outputs": [],
   "source": []
  },
  {
   "cell_type": "code",
   "execution_count": null,
   "id": "ffc15b4d-1e5e-4bff-a8de-6665d852cde9",
   "metadata": {},
   "outputs": [],
   "source": []
  },
  {
   "cell_type": "code",
   "execution_count": null,
   "id": "7d6f8ca8-9e0f-44c7-b3e0-5f06c6364846",
   "metadata": {},
   "outputs": [],
   "source": []
  },
  {
   "cell_type": "code",
   "execution_count": null,
   "id": "e6da66b6-aaf3-4c3b-8367-34230aa9d85a",
   "metadata": {},
   "outputs": [],
   "source": []
  },
  {
   "cell_type": "code",
   "execution_count": null,
   "id": "acd0e5cd-4293-4071-a7ae-ef1903fced56",
   "metadata": {},
   "outputs": [],
   "source": []
  },
  {
   "cell_type": "code",
   "execution_count": null,
   "id": "1380384a-e766-404b-871d-4ae0af004f26",
   "metadata": {},
   "outputs": [],
   "source": []
  },
  {
   "cell_type": "code",
   "execution_count": null,
   "id": "1da91b4f-420c-4f39-8420-bdeb1cbad692",
   "metadata": {},
   "outputs": [],
   "source": []
  },
  {
   "cell_type": "code",
   "execution_count": null,
   "id": "bbe77b53-3ba5-44cb-b146-0e5d04ac49a0",
   "metadata": {},
   "outputs": [],
   "source": []
  }
 ],
 "metadata": {
  "kernelspec": {
   "display_name": "Python 3 (ipykernel)",
   "language": "python",
   "name": "python3"
  },
  "language_info": {
   "codemirror_mode": {
    "name": "ipython",
    "version": 3
   },
   "file_extension": ".py",
   "mimetype": "text/x-python",
   "name": "python",
   "nbconvert_exporter": "python",
   "pygments_lexer": "ipython3",
   "version": "3.10.8"
  }
 },
 "nbformat": 4,
 "nbformat_minor": 5
}
